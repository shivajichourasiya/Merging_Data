{
 "cells": [
  {
   "cell_type": "code",
   "execution_count": 1,
   "metadata": {},
   "outputs": [],
   "source": [
    "import os\n",
    "import pandas as pd"
   ]
  },
  {
   "cell_type": "code",
   "execution_count": 2,
   "metadata": {},
   "outputs": [],
   "source": [
    "Android_File = r'C:\\Users\\schoursi\\Desktop\\World\\Daily updates\\Merging\\06-03-2021\\CNCentralTeam_GQFranceSubsAppSurvey_Android_April2021_Jun-02-2021_115331AM.csv'\n",
    "IOS_File = r'C:\\Users\\schoursi\\Desktop\\World\\Daily updates\\Merging\\06-03-2021\\CNCentralTeam_GQFranceSubsAppSurvey_iOS_April2021_Jun-02-2021_115212AM.csv'"
   ]
  },
  {
   "cell_type": "code",
   "execution_count": 3,
   "metadata": {},
   "outputs": [],
   "source": [
    "df_Android = pd.read_csv(Android_File)\n",
    "df_IOS = pd.read_csv(IOS_File)"
   ]
  },
  {
   "cell_type": "code",
   "execution_count": 4,
   "metadata": {},
   "outputs": [],
   "source": [
    "df_IOS.insert(5,\"Device_Type\",'1',True)\n",
    "df_Android.insert(5,\"Device_Type\",'2',True)"
   ]
  },
  {
   "cell_type": "code",
   "execution_count": 5,
   "metadata": {},
   "outputs": [],
   "source": [
    "Android_columns = df_Android.columns.values.tolist()\n",
    "IOS_columns = df_IOS.columns.values.tolist()"
   ]
  },
  {
   "cell_type": "code",
   "execution_count": 6,
   "metadata": {},
   "outputs": [],
   "source": [
    "if (Android_columns == IOS_columns):\n",
    "    df_Combined = df_IOS.append(df_Android,ignore_index=True)\n",
    "    df_Subscribers = df_Combined[df_Combined['Q1.'].isin(['1','2'])]\n",
    "    df_NonSubscribers = df_Combined[df_Combined['Q1.'].isin(['1','2'])==False]\n",
    "    \n",
    "    File_Save_Path = Android_File\n",
    "    File_Save_Path = \"\\\\\".join(File_Save_Path.split(\"\\\\\")[:-1])\n",
    "    \n",
    "    File_Save_Path_Combined = File_Save_Path+\"\\\\\" +\"Merged_Android_iOS_Data.csv\"\n",
    "    File_Save_Path_Subs = File_Save_Path+\"\\\\\" +\"Subscribers_Data.csv\"\n",
    "    File_Save_Path_Non_Subs = File_Save_Path+\"\\\\\" +\"Non_Subscribers_Data.csv\"\n",
    "    \n",
    "    df_Combined.to_csv(File_Save_Path_Combined,encoding='utf-8',index = False)\n",
    "    df_Subscribers.to_csv(File_Save_Path_Subs,encoding='utf-8',index = False)\n",
    "    df_NonSubscribers.to_csv(File_Save_Path_Non_Subs,encoding='utf-8',index = False)\n",
    "    \n",
    "    #writer = pd.ExcelWriter(File_Save_Path, engine='xlsxwriter')\n",
    "    #df_Combined.to_excel(writer, index = False)\n",
    "    #writer.save()\n",
    "else:\n",
    "    print('Columns of both files are NOT matching')"
   ]
  },
  {
   "cell_type": "code",
   "execution_count": null,
   "metadata": {},
   "outputs": [],
   "source": []
  },
  {
   "cell_type": "code",
   "execution_count": null,
   "metadata": {},
   "outputs": [],
   "source": []
  },
  {
   "cell_type": "code",
   "execution_count": null,
   "metadata": {},
   "outputs": [],
   "source": []
  },
  {
   "cell_type": "code",
   "execution_count": null,
   "metadata": {},
   "outputs": [],
   "source": []
  },
  {
   "cell_type": "code",
   "execution_count": null,
   "metadata": {},
   "outputs": [],
   "source": []
  }
 ],
 "metadata": {
  "kernelspec": {
   "display_name": "Python 3",
   "language": "python",
   "name": "python3"
  },
  "language_info": {
   "codemirror_mode": {
    "name": "ipython",
    "version": 3
   },
   "file_extension": ".py",
   "mimetype": "text/x-python",
   "name": "python",
   "nbconvert_exporter": "python",
   "pygments_lexer": "ipython3",
   "version": "3.8.5"
  }
 },
 "nbformat": 4,
 "nbformat_minor": 4
}
